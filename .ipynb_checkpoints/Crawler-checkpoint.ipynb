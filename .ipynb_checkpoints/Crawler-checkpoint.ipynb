{
 "cells": [
  {
   "cell_type": "code",
   "execution_count": 1,
   "metadata": {},
   "outputs": [
    {
     "ename": "NameError",
     "evalue": "name 'Options' is not defined",
     "output_type": "error",
     "traceback": [
      "\u001b[0;31m---------------------------------------------------------------------------\u001b[0m",
      "\u001b[0;31mNameError\u001b[0m                                 Traceback (most recent call last)",
      "\u001b[0;32m<ipython-input-1-ee164b177cf3>\u001b[0m in \u001b[0;36m<module>\u001b[0;34m\u001b[0m\n\u001b[1;32m      5\u001b[0m \u001b[0;32mimport\u001b[0m \u001b[0mtime\u001b[0m\u001b[0;34m\u001b[0m\u001b[0;34m\u001b[0m\u001b[0m\n\u001b[1;32m      6\u001b[0m \u001b[0;34m\u001b[0m\u001b[0m\n\u001b[0;32m----> 7\u001b[0;31m \u001b[0moptions\u001b[0m\u001b[0;34m=\u001b[0m \u001b[0mOptions\u001b[0m\u001b[0;34m(\u001b[0m\u001b[0;34m)\u001b[0m\u001b[0;34m\u001b[0m\u001b[0;34m\u001b[0m\u001b[0m\n\u001b[0m\u001b[1;32m      8\u001b[0m \u001b[0moptions\u001b[0m\u001b[0;34m.\u001b[0m\u001b[0madd_argument\u001b[0m\u001b[0;34m(\u001b[0m\u001b[0;34m'--headless'\u001b[0m\u001b[0;34m)\u001b[0m\u001b[0;34m\u001b[0m\u001b[0;34m\u001b[0m\u001b[0m\n\u001b[1;32m      9\u001b[0m \u001b[0moptions\u001b[0m\u001b[0;34m.\u001b[0m\u001b[0madd_argument\u001b[0m\u001b[0;34m(\u001b[0m\u001b[0;34m'--disable-gpu'\u001b[0m\u001b[0;34m)\u001b[0m\u001b[0;34m\u001b[0m\u001b[0;34m\u001b[0m\u001b[0m\n",
      "\u001b[0;31mNameError\u001b[0m: name 'Options' is not defined"
     ]
    }
   ],
   "source": [
    "from selenium import webdriver\n",
    "from selenium.webdriver.chrome.options import Options\n",
    "from bs4 import BeautifulSoup, Tag, NavigableString\n",
    "import time\n",
    "import os\n",
    "import csv\n",
    "import time\n",
    "\n",
    "options= Options()\n",
    "options.add_argument('--headless')\n",
    "options.add_argument('--disable-gpu')\n",
    "driver=webdriver.Chrome(os.getcwd()+\"/chromedriver\",chrome_options=options)\n",
    "driver.get('https://socialblade.com/youtube/top/5000/mostsubscribed')\n",
    "#https://socialblade.com/youtube/top/5000/mostsubscribed\n",
    "#https://socialblade.com/youtube/top/50\n",
    "sourceCode=BeautifulSoup(driver.page_source,\"html.parser\")\n",
    "youtubers=[]\n",
    "youtubers.extend(sourceCode.find_all('div',{'style':'width: 860px; background: #fafafa; padding: 10px 20px; color:#444; font-size: 10pt; border-bottom: 1px solid #eee; line-height: 40px;'}))\n",
    "youtubers.extend(sourceCode.find_all('div',{'style':'width: 860px; background: #f8f8f8;; padding: 10px 20px; color:#444; font-size: 10pt; border-bottom: 1px solid #eee; line-height: 40px;'}))\n",
    "youtubers.extend(sourceCode.find_all('div',{'style':'width: 860px; background: #fafafa; padding: 0px 20px; color:#444; font-size: 10pt; border-bottom: 1px solid #eee; line-height: 30px;'}))\n",
    "youtubers.extend(sourceCode.find_all('div',{'style':'width: 860px; background: #f8f8f8;; padding: 0px 20px; color:#444; font-size: 10pt; border-bottom: 1px solid #eee; line-height: 30px;'}))\n",
    "count=0\n",
    "with open('stats5000.csv', 'w', newline='',encoding=\"utf-8\") as file:\n",
    "    writer = csv.writer(file)\n",
    "    writer.writerow([\"Rank\",\"Name\",\"Uploads\",\"Subscribers\",\"Views\"])\n",
    "    for youtuber in youtubers:\n",
    "        time.sleep(0.1)\n",
    "        try:\n",
    "            name=youtuber.find_all(\"a\")[0].text\n",
    "        except IndexError:\n",
    "            name=\"N/A\"\n",
    "        try:\n",
    "            upload=youtuber.find_all(\"span\",{\"style\":\"color:#555;\"})[0].text.strip()\n",
    "        except IndexError:\n",
    "            upload=\"N/A\"\n",
    "        try:\n",
    "            subscribe=youtuber.find_all(\"div\",{\"style\":\"float: left; width: 150px;\"})[0].text.strip()\n",
    "        except IndexError:\n",
    "            subscribe=\"N/A\"\n",
    "        try:\n",
    "            view=youtuber.find_all(\"span\",{\"style\":\"color:#555;\"})[1].text.strip()\n",
    "        except IndexError:\n",
    "            view=\"N/A\"\n",
    "\n",
    "        data=[str(count+1),name,upload,subscribe,view]\n",
    "        count+=1\n",
    "        writer.writerow(data)\n",
    "print(\"Start\")\n",
    "print(count)"
   ]
  },
  {
   "cell_type": "code",
   "execution_count": null,
   "metadata": {},
   "outputs": [],
   "source": [
    "view_counts=[0,0,0,0,0,0,0,0,0]\n",
    "switch(view)"
   ]
  }
 ],
 "metadata": {
  "kernelspec": {
   "display_name": "Python 3",
   "language": "python",
   "name": "python3"
  },
  "language_info": {
   "codemirror_mode": {
    "name": "ipython",
    "version": 3
   },
   "file_extension": ".py",
   "mimetype": "text/x-python",
   "name": "python",
   "nbconvert_exporter": "python",
   "pygments_lexer": "ipython3",
   "version": "3.7.4"
  }
 },
 "nbformat": 4,
 "nbformat_minor": 2
}
