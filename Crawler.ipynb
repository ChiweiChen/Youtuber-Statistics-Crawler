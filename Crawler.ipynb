{
 "cells": [
  {
   "cell_type": "code",
   "execution_count": 4,
   "metadata": {},
   "outputs": [
    {
     "name": "stderr",
     "output_type": "stream",
     "text": [
      "/Users/chiwei/opt/anaconda3/lib/python3.7/site-packages/ipykernel_launcher.py:12: DeprecationWarning: use options instead of chrome_options\n",
      "  if sys.path[0] == '':\n"
     ]
    },
    {
     "name": "stdout",
     "output_type": "stream",
     "text": [
      "Start\n",
      "5000\n"
     ]
    }
   ],
   "source": [
    "from selenium import webdriver\n",
    "from selenium.webdriver.chrome.options import Options\n",
    "from bs4 import BeautifulSoup, Tag, NavigableString\n",
    "import time\n",
    "import os\n",
    "import csv\n",
    "import time\n",
    "\n",
    "options= Options()\n",
    "options.add_argument('--headless')\n",
    "options.add_argument('--disable-gpu')\n",
    "driver=webdriver.Chrome(os.getcwd()+\"/chromedriver\",chrome_options=options)\n",
    "driver.get('https://socialblade.com/youtube/top/5000/mostviewed')\n",
    "#https://socialblade.com/youtube/top/5000/mostsubscribed\n",
    "#https://socialblade.com/youtube/top/50\n",
    "sourceCode=BeautifulSoup(driver.page_source,\"html.parser\")\n",
    "youtubers=[]\n",
    "youtubers.extend(sourceCode.find_all('div',{'style':'width: 860px; background: #fafafa; padding: 10px 20px; color:#444; font-size: 10pt; border-bottom: 1px solid #eee; line-height: 40px;'}))\n",
    "youtubers.extend(sourceCode.find_all('div',{'style':'width: 860px; background: #f8f8f8;; padding: 10px 20px; color:#444; font-size: 10pt; border-bottom: 1px solid #eee; line-height: 40px;'}))\n",
    "youtubers.extend(sourceCode.find_all('div',{'style':'width: 860px; background: #fafafa; padding: 0px 20px; color:#444; font-size: 10pt; border-bottom: 1px solid #eee; line-height: 30px;'}))\n",
    "youtubers.extend(sourceCode.find_all('div',{'style':'width: 860px; background: #f8f8f8;; padding: 0px 20px; color:#444; font-size: 10pt; border-bottom: 1px solid #eee; line-height: 30px;'}))\n",
    "count=0\n",
    "print(\"Start\")\n",
    "with open('views5000.csv', 'w', newline='',encoding=\"utf-8\") as file:\n",
    "    writer = csv.writer(file)\n",
    "    writer.writerow([\"Rank\",\"Name\",\"Uploads\",\"Subscribers\",\"Views\"])\n",
    "    for youtuber in youtubers:\n",
    "        time.sleep(0.1)\n",
    "        try:\n",
    "            name=youtuber.find_all(\"a\")[0].text\n",
    "        except IndexError:\n",
    "            name=\"N/A\"\n",
    "        try:\n",
    "            upload=youtuber.find_all(\"span\",{\"style\":\"color:#555;\"})[0].text.strip()\n",
    "        except IndexError:\n",
    "            upload=\"N/A\"\n",
    "        try:\n",
    "            subscribe=youtuber.find_all(\"div\",{\"style\":\"float: left; width: 150px;\"})[0].text.strip()\n",
    "        except IndexError:\n",
    "            subscribe=\"N/A\"\n",
    "        try:\n",
    "            view=youtuber.find_all(\"span\",{\"style\":\"color:#555;\"})[1].text.strip()\n",
    "        except IndexError:\n",
    "            view=\"N/A\"\n",
    "\n",
    "        data=[str(count+1),name,upload,subscribe,view]\n",
    "        count+=1\n",
    "        writer.writerow(data)\n",
    "\n",
    "print(count)"
   ]
  },
  {
   "cell_type": "code",
   "execution_count": null,
   "metadata": {},
   "outputs": [],
   "source": []
  }
 ],
 "metadata": {
  "kernelspec": {
   "display_name": "Python 3",
   "language": "python",
   "name": "python3"
  },
  "language_info": {
   "codemirror_mode": {
    "name": "ipython",
    "version": 3
   },
   "file_extension": ".py",
   "mimetype": "text/x-python",
   "name": "python",
   "nbconvert_exporter": "python",
   "pygments_lexer": "ipython3",
   "version": "3.7.4"
  }
 },
 "nbformat": 4,
 "nbformat_minor": 2
}
